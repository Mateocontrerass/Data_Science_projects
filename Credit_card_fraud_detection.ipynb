{
  "cells": [
    {
      "cell_type": "markdown",
      "metadata": {
        "id": "view-in-github",
        "colab_type": "text"
      },
      "source": [
        "<a href=\"https://colab.research.google.com/github/Mateocontrerass/Data_Science_projects/blob/main/Credit_card_fraud_detection.ipynb\" target=\"_parent\"><img src=\"https://colab.research.google.com/assets/colab-badge.svg\" alt=\"Open In Colab\"/></a>"
      ]
    },
    {
      "cell_type": "markdown",
      "metadata": {
        "id": "_LGqmze4TuUH"
      },
      "source": [
        "#__Credit card fraud detection__\n",
        "\n",
        "## 1. Business Understanding\n",
        "\n",
        "  The company _fraudCracker_ just opened its brand new offices in Colombia and looks forward to work with the country's biggest credit institutions.\n",
        "\n",
        "  The business model is centered in blocking fraudulent transactions from which the company gets a share if it's truly fraudulent but can also lose money if the transaction is legitimate but was flagged as fraudulent.\n",
        "\n",
        "  The company's pay and penalties structure works as follows:\n",
        "  \n",
        "  a. The company will recieve 15% of the value of each transaction made that is truly detected as fraud.\n",
        "  \n",
        "  b. The company will have a penalty of 3% of the value of each transaction made that is flagged as fraud but is legitimate.\n",
        "\n",
        "## 2. The goal\n",
        "\n",
        "  You as the lead Data Scientist in fraudCracker must deliver a classification model for the company.\n",
        "\n",
        "\n",
        "## 3. Key questions\n",
        "\n",
        "What is the expected billing?\n",
        "\n",
        "What is the expected loss?\n",
        "\n",
        "Is the model profitable?\n"
      ]
    },
    {
      "cell_type": "code",
      "execution_count": 1,
      "metadata": {
        "id": "R49PpouaTuDT",
        "colab": {
          "base_uri": "https://localhost:8080/"
        },
        "outputId": "a949ec1b-e09a-4025-9ef7-0e812c62ec4c"
      },
      "outputs": [
        {
          "output_type": "stream",
          "name": "stdout",
          "text": [
            "Requirement already satisfied: category_encoders in /usr/local/lib/python3.10/dist-packages (2.6.3)\n",
            "Requirement already satisfied: numpy>=1.14.0 in /usr/local/lib/python3.10/dist-packages (from category_encoders) (1.25.2)\n",
            "Requirement already satisfied: scikit-learn>=0.20.0 in /usr/local/lib/python3.10/dist-packages (from category_encoders) (1.2.2)\n",
            "Requirement already satisfied: scipy>=1.0.0 in /usr/local/lib/python3.10/dist-packages (from category_encoders) (1.11.4)\n",
            "Requirement already satisfied: statsmodels>=0.9.0 in /usr/local/lib/python3.10/dist-packages (from category_encoders) (0.14.2)\n",
            "Requirement already satisfied: pandas>=1.0.5 in /usr/local/lib/python3.10/dist-packages (from category_encoders) (2.0.3)\n",
            "Requirement already satisfied: patsy>=0.5.1 in /usr/local/lib/python3.10/dist-packages (from category_encoders) (0.5.6)\n",
            "Requirement already satisfied: python-dateutil>=2.8.2 in /usr/local/lib/python3.10/dist-packages (from pandas>=1.0.5->category_encoders) (2.8.2)\n",
            "Requirement already satisfied: pytz>=2020.1 in /usr/local/lib/python3.10/dist-packages (from pandas>=1.0.5->category_encoders) (2023.4)\n",
            "Requirement already satisfied: tzdata>=2022.1 in /usr/local/lib/python3.10/dist-packages (from pandas>=1.0.5->category_encoders) (2024.1)\n",
            "Requirement already satisfied: six in /usr/local/lib/python3.10/dist-packages (from patsy>=0.5.1->category_encoders) (1.16.0)\n",
            "Requirement already satisfied: joblib>=1.1.1 in /usr/local/lib/python3.10/dist-packages (from scikit-learn>=0.20.0->category_encoders) (1.4.2)\n",
            "Requirement already satisfied: threadpoolctl>=2.0.0 in /usr/local/lib/python3.10/dist-packages (from scikit-learn>=0.20.0->category_encoders) (3.5.0)\n",
            "Requirement already satisfied: packaging>=21.3 in /usr/local/lib/python3.10/dist-packages (from statsmodels>=0.9.0->category_encoders) (24.1)\n"
          ]
        }
      ],
      "source": [
        "import numpy as np\n",
        "import polars as pl\n",
        "import polars.selectors as cs\n",
        "\n",
        "import warnings\n",
        "import matplotlib.pyplot as plt\n",
        "%matplotlib inline\n",
        "\n",
        "import seaborn as sns\n",
        "\n",
        "from sklearn.model_selection import  train_test_split\n",
        "\n",
        "\n",
        "!pip install category_encoders\n",
        "\n",
        "from category_encoders import OneHotEncoder\n",
        "import gc\n",
        "import pandas as pd"
      ]
    },
    {
      "cell_type": "code",
      "execution_count": 2,
      "metadata": {
        "id": "8sKyUXEqZDxr"
      },
      "outputs": [],
      "source": [
        "from IPython.core.magic import register_cell_magic\n",
        "\n",
        "@register_cell_magic\n",
        "def skip(line, cell):\n",
        "    return"
      ]
    },
    {
      "cell_type": "code",
      "execution_count": 3,
      "metadata": {
        "id": "cY8lRKzCSQ4U"
      },
      "outputs": [],
      "source": [
        "warnings.filterwarnings('ignore')\n",
        "\n",
        "seed = 123\n",
        "np.random.seed(seed)"
      ]
    },
    {
      "cell_type": "markdown",
      "metadata": {
        "id": "kyTw1v1UfxUY"
      },
      "source": [
        "## I. Loading the Data"
      ]
    },
    {
      "cell_type": "code",
      "execution_count": 4,
      "metadata": {
        "id": "mM36Vnxif3YY",
        "colab": {
          "base_uri": "https://localhost:8080/"
        },
        "outputId": "1427dd7c-74d7-4af0-db77-35f42416555f"
      },
      "outputs": [
        {
          "output_type": "stream",
          "name": "stdout",
          "text": [
            "Dataset URL: https://www.kaggle.com/datasets/rupakroy/online-payments-fraud-detection-dataset\n",
            "License(s): CC-BY-NC-SA-4.0\n",
            "Downloading online-payments-fraud-detection-dataset.zip to /content/sample_data\n",
            " 98% 175M/178M [00:01<00:00, 99.3MB/s]\n",
            "100% 178M/178M [00:01<00:00, 110MB/s] \n"
          ]
        }
      ],
      "source": [
        "!kaggle datasets download -d rupakroy/online-payments-fraud-detection-dataset -p /content/sample_data/ --unzip"
      ]
    },
    {
      "cell_type": "code",
      "execution_count": 5,
      "metadata": {
        "id": "5NbLFQ5Kf2Cz"
      },
      "outputs": [],
      "source": [
        "data = pl.read_csv(\"/content/sample_data/PS_20174392719_1491204439457_log.csv\")"
      ]
    },
    {
      "cell_type": "code",
      "execution_count": 6,
      "metadata": {
        "id": "e5EBusUfgFSU"
      },
      "outputs": [],
      "source": [
        "# Drop unnecesary columns or ones that we would not have access in a normal scenario\n",
        "\n",
        "if \"isFlaggedFraud\" in data.columns:\n",
        "  data=data.drop(\"isFlaggedFraud\")\n",
        "\n",
        "data = data.drop([\"oldbalanceDest\",\"newbalanceDest\"])"
      ]
    },
    {
      "cell_type": "markdown",
      "metadata": {
        "id": "EHXQ5WTDcc-I"
      },
      "source": [
        "## II. Data Understanding\n",
        "\n",
        "### a. Columns\n",
        "\n",
        "\n",
        "step: represents a unit of time where 1 step equals 1 hour\n",
        "\n",
        "type: type of online transaction\n",
        "\n",
        "amount: the amount of the transaction\n",
        "\n",
        "nameOrig: customer starting the transaction\n",
        "\n",
        "oldbalanceOrg: balance before the transaction\n",
        "\n",
        "newbalanceOrig: balance after the transaction\n",
        "\n",
        "nameDest: recipient of the transaction\n",
        "\n",
        "isFraud: fraud transaction\n",
        "\n",
        "### b. Data shape\n"
      ]
    },
    {
      "cell_type": "code",
      "execution_count": 7,
      "metadata": {
        "id": "XcQo67G9bpvG",
        "colab": {
          "base_uri": "https://localhost:8080/"
        },
        "outputId": "663b57b4-fc76-42f0-9c93-9a31ddafa6bd"
      },
      "outputs": [
        {
          "output_type": "stream",
          "name": "stdout",
          "text": [
            "The number of observations in the data set is 6,362,620\n",
            "The number of columns in the data set is 8\n"
          ]
        }
      ],
      "source": [
        "print(f\"The number of observations in the data set is {data.shape[0]:,}\")\n",
        "print(f\"The number of columns in the data set is {data.shape[1]:,}\")"
      ]
    },
    {
      "cell_type": "markdown",
      "metadata": {
        "id": "Ckb6iqdynJ9a"
      },
      "source": [
        "### c. Data Info"
      ]
    },
    {
      "cell_type": "code",
      "execution_count": 8,
      "metadata": {
        "id": "3nxtM7GjnJlw",
        "colab": {
          "base_uri": "https://localhost:8080/"
        },
        "outputId": "c8432803-f13c-47eb-f18a-32ee7ef3d50a"
      },
      "outputs": [
        {
          "output_type": "execute_result",
          "data": {
            "text/plain": [
              "OrderedDict([('step', Int64),\n",
              "             ('type', Utf8),\n",
              "             ('amount', Float64),\n",
              "             ('nameOrig', Utf8),\n",
              "             ('oldbalanceOrg', Float64),\n",
              "             ('newbalanceOrig', Float64),\n",
              "             ('nameDest', Utf8),\n",
              "             ('isFraud', Int64)])"
            ]
          },
          "metadata": {},
          "execution_count": 8
        }
      ],
      "source": [
        "data.schema"
      ]
    },
    {
      "cell_type": "code",
      "execution_count": 9,
      "metadata": {
        "id": "NxBX_jZ3mEmi",
        "colab": {
          "base_uri": "https://localhost:8080/"
        },
        "outputId": "72cbc87d-9159-487d-e901-01573f90216c"
      },
      "outputs": [
        {
          "output_type": "stream",
          "name": "stdout",
          "text": [
            "The dataframe estimated size is 560.5888690948486 mb.\n"
          ]
        }
      ],
      "source": [
        "print(f\"The dataframe estimated size is {data.estimated_size('mb')} mb.\")"
      ]
    },
    {
      "cell_type": "markdown",
      "metadata": {
        "id": "OIuH4yeIvLlg"
      },
      "source": [
        "### d. Data NA\n"
      ]
    },
    {
      "cell_type": "code",
      "execution_count": 10,
      "metadata": {
        "id": "b7TwgRpnoLB8",
        "colab": {
          "base_uri": "https://localhost:8080/",
          "height": 129
        },
        "outputId": "cc4a8636-9ae3-45e2-e6b5-561382a64c2e"
      },
      "outputs": [
        {
          "output_type": "execute_result",
          "data": {
            "text/plain": [
              "shape: (1, 8)\n",
              "┌──────┬──────┬────────┬──────────┬───────────────┬────────────────┬──────────┬─────────┐\n",
              "│ step ┆ type ┆ amount ┆ nameOrig ┆ oldbalanceOrg ┆ newbalanceOrig ┆ nameDest ┆ isFraud │\n",
              "│ ---  ┆ ---  ┆ ---    ┆ ---      ┆ ---           ┆ ---            ┆ ---      ┆ ---     │\n",
              "│ u32  ┆ u32  ┆ u32    ┆ u32      ┆ u32           ┆ u32            ┆ u32      ┆ u32     │\n",
              "╞══════╪══════╪════════╪══════════╪═══════════════╪════════════════╪══════════╪═════════╡\n",
              "│ 0    ┆ 0    ┆ 0      ┆ 0        ┆ 0             ┆ 0              ┆ 0        ┆ 0       │\n",
              "└──────┴──────┴────────┴──────────┴───────────────┴────────────────┴──────────┴─────────┘"
            ],
            "text/html": [
              "<div><style>\n",
              ".dataframe > thead > tr,\n",
              ".dataframe > tbody > tr {\n",
              "  text-align: right;\n",
              "  white-space: pre-wrap;\n",
              "}\n",
              "</style>\n",
              "<small>shape: (1, 8)</small><table border=\"1\" class=\"dataframe\"><thead><tr><th>step</th><th>type</th><th>amount</th><th>nameOrig</th><th>oldbalanceOrg</th><th>newbalanceOrig</th><th>nameDest</th><th>isFraud</th></tr><tr><td>u32</td><td>u32</td><td>u32</td><td>u32</td><td>u32</td><td>u32</td><td>u32</td><td>u32</td></tr></thead><tbody><tr><td>0</td><td>0</td><td>0</td><td>0</td><td>0</td><td>0</td><td>0</td><td>0</td></tr></tbody></table></div>"
            ]
          },
          "metadata": {},
          "execution_count": 10
        }
      ],
      "source": [
        "# There are no null values in the dataframe.\n",
        "data.null_count()"
      ]
    },
    {
      "cell_type": "code",
      "source": [
        "data = data.drop_nulls()"
      ],
      "metadata": {
        "id": "aJDHEyCY3MzW"
      },
      "execution_count": 11,
      "outputs": []
    },
    {
      "cell_type": "markdown",
      "metadata": {
        "id": "-I3-u_ACvR4R"
      },
      "source": [
        "### e. descriptive overview"
      ]
    },
    {
      "cell_type": "code",
      "execution_count": 12,
      "metadata": {
        "id": "lA_1TTjPtBrI",
        "colab": {
          "base_uri": "https://localhost:8080/",
          "height": 255
        },
        "outputId": "261af4f4-128a-4369-d749-0cad9f658dc6"
      },
      "outputs": [
        {
          "output_type": "execute_result",
          "data": {
            "text/plain": [
              "shape: (5, 2)\n",
              "┌──────────┬─────────┐\n",
              "│ type     ┆ count   │\n",
              "│ ---      ┆ ---     │\n",
              "│ str      ┆ u32     │\n",
              "╞══════════╪═════════╡\n",
              "│ DEBIT    ┆ 41432   │\n",
              "│ TRANSFER ┆ 532909  │\n",
              "│ CASH_IN  ┆ 1399284 │\n",
              "│ PAYMENT  ┆ 2151495 │\n",
              "│ CASH_OUT ┆ 2237500 │\n",
              "└──────────┴─────────┘"
            ],
            "text/html": [
              "<div><style>\n",
              ".dataframe > thead > tr,\n",
              ".dataframe > tbody > tr {\n",
              "  text-align: right;\n",
              "  white-space: pre-wrap;\n",
              "}\n",
              "</style>\n",
              "<small>shape: (5, 2)</small><table border=\"1\" class=\"dataframe\"><thead><tr><th>type</th><th>count</th></tr><tr><td>str</td><td>u32</td></tr></thead><tbody><tr><td>&quot;DEBIT&quot;</td><td>41432</td></tr><tr><td>&quot;TRANSFER&quot;</td><td>532909</td></tr><tr><td>&quot;CASH_IN&quot;</td><td>1399284</td></tr><tr><td>&quot;PAYMENT&quot;</td><td>2151495</td></tr><tr><td>&quot;CASH_OUT&quot;</td><td>2237500</td></tr></tbody></table></div>"
            ]
          },
          "metadata": {},
          "execution_count": 12
        }
      ],
      "source": [
        "data[\"type\"].value_counts().sort(\"count\")"
      ]
    },
    {
      "cell_type": "code",
      "execution_count": 13,
      "metadata": {
        "id": "z4h1hjUsuqDm",
        "colab": {
          "base_uri": "https://localhost:8080/",
          "height": 255
        },
        "outputId": "08e74233-22c1-4849-ed13-82a7b3c443bc"
      },
      "outputs": [
        {
          "output_type": "execute_result",
          "data": {
            "text/plain": [
              "shape: (5, 2)\n",
              "┌─────────────┬───────┐\n",
              "│ nameOrig    ┆ count │\n",
              "│ ---         ┆ ---   │\n",
              "│ str         ┆ u32   │\n",
              "╞═════════════╪═══════╡\n",
              "│ C2098525306 ┆ 3     │\n",
              "│ C1784010646 ┆ 3     │\n",
              "│ C363736674  ┆ 3     │\n",
              "│ C1462946854 ┆ 3     │\n",
              "│ C1530544995 ┆ 3     │\n",
              "└─────────────┴───────┘"
            ],
            "text/html": [
              "<div><style>\n",
              ".dataframe > thead > tr,\n",
              ".dataframe > tbody > tr {\n",
              "  text-align: right;\n",
              "  white-space: pre-wrap;\n",
              "}\n",
              "</style>\n",
              "<small>shape: (5, 2)</small><table border=\"1\" class=\"dataframe\"><thead><tr><th>nameOrig</th><th>count</th></tr><tr><td>str</td><td>u32</td></tr></thead><tbody><tr><td>&quot;C2098525306&quot;</td><td>3</td></tr><tr><td>&quot;C1784010646&quot;</td><td>3</td></tr><tr><td>&quot;C363736674&quot;</td><td>3</td></tr><tr><td>&quot;C1462946854&quot;</td><td>3</td></tr><tr><td>&quot;C1530544995&quot;</td><td>3</td></tr></tbody></table></div>"
            ]
          },
          "metadata": {},
          "execution_count": 13
        }
      ],
      "source": [
        "data[\"nameOrig\"].value_counts().sort(\"count\",descending=True).head(5)"
      ]
    },
    {
      "cell_type": "code",
      "execution_count": 14,
      "metadata": {
        "id": "NJxJWg0eoz4C",
        "colab": {
          "base_uri": "https://localhost:8080/",
          "height": 380
        },
        "outputId": "14f59b3e-584f-4532-ff5d-dcd68e0b4e03"
      },
      "outputs": [
        {
          "output_type": "execute_result",
          "data": {
            "text/plain": [
              "shape: (9, 9)\n",
              "┌───────────┬───────────┬──────────┬───────────┬───┬───────────┬───────────┬───────────┬───────────┐\n",
              "│ describe  ┆ step      ┆ type     ┆ amount    ┆ … ┆ oldbalanc ┆ newbalanc ┆ nameDest  ┆ isFraud   │\n",
              "│ ---       ┆ ---       ┆ ---      ┆ ---       ┆   ┆ eOrg      ┆ eOrig     ┆ ---       ┆ ---       │\n",
              "│ str       ┆ f64       ┆ str      ┆ f64       ┆   ┆ ---       ┆ ---       ┆ str       ┆ f64       │\n",
              "│           ┆           ┆          ┆           ┆   ┆ f64       ┆ f64       ┆           ┆           │\n",
              "╞═══════════╪═══════════╪══════════╪═══════════╪═══╪═══════════╪═══════════╪═══════════╪═══════════╡\n",
              "│ count     ┆ 6.36262e6 ┆ 6362620  ┆ 6.36262e6 ┆ … ┆ 6.36262e6 ┆ 6.36262e6 ┆ 6362620   ┆ 6.36262e6 │\n",
              "│ null_coun ┆ 0.0       ┆ 0        ┆ 0.0       ┆ … ┆ 0.0       ┆ 0.0       ┆ 0         ┆ 0.0       │\n",
              "│ t         ┆           ┆          ┆           ┆   ┆           ┆           ┆           ┆           │\n",
              "│ mean      ┆ 243.39724 ┆ null     ┆ 179861.90 ┆ … ┆ 833883.10 ┆ 855113.66 ┆ null      ┆ 0.001291  │\n",
              "│           ┆ 6         ┆          ┆ 3549      ┆   ┆ 4074      ┆ 8579      ┆           ┆           │\n",
              "│ std       ┆ 142.33197 ┆ null     ┆ 603858.23 ┆ … ┆ 2.8882e6  ┆ 2.9240e6  ┆ null      ┆ 0.035905  │\n",
              "│           ┆ 1         ┆          ┆ 1463      ┆   ┆           ┆           ┆           ┆           │\n",
              "│ min       ┆ 1.0       ┆ CASH_IN  ┆ 0.0       ┆ … ┆ 0.0       ┆ 0.0       ┆ C10000040 ┆ 0.0       │\n",
              "│           ┆           ┆          ┆           ┆   ┆           ┆           ┆ 82        ┆           │\n",
              "│ 25%       ┆ 156.0     ┆ null     ┆ 13389.57  ┆ … ┆ 0.0       ┆ 0.0       ┆ null      ┆ 0.0       │\n",
              "│ 50%       ┆ 239.0     ┆ null     ┆ 74872.08  ┆ … ┆ 14208.0   ┆ 0.0       ┆ null      ┆ 0.0       │\n",
              "│ 75%       ┆ 335.0     ┆ null     ┆ 208721.45 ┆ … ┆ 107315.0  ┆ 144258.41 ┆ null      ┆ 0.0       │\n",
              "│ max       ┆ 743.0     ┆ TRANSFER ┆ 9.2446e7  ┆ … ┆ 5.9585e7  ┆ 4.9585e7  ┆ M99999978 ┆ 1.0       │\n",
              "│           ┆           ┆          ┆           ┆   ┆           ┆           ┆ 4         ┆           │\n",
              "└───────────┴───────────┴──────────┴───────────┴───┴───────────┴───────────┴───────────┴───────────┘"
            ],
            "text/html": [
              "<div><style>\n",
              ".dataframe > thead > tr,\n",
              ".dataframe > tbody > tr {\n",
              "  text-align: right;\n",
              "  white-space: pre-wrap;\n",
              "}\n",
              "</style>\n",
              "<small>shape: (9, 9)</small><table border=\"1\" class=\"dataframe\"><thead><tr><th>describe</th><th>step</th><th>type</th><th>amount</th><th>nameOrig</th><th>oldbalanceOrg</th><th>newbalanceOrig</th><th>nameDest</th><th>isFraud</th></tr><tr><td>str</td><td>f64</td><td>str</td><td>f64</td><td>str</td><td>f64</td><td>f64</td><td>str</td><td>f64</td></tr></thead><tbody><tr><td>&quot;count&quot;</td><td>6.36262e6</td><td>&quot;6362620&quot;</td><td>6.36262e6</td><td>&quot;6362620&quot;</td><td>6.36262e6</td><td>6.36262e6</td><td>&quot;6362620&quot;</td><td>6.36262e6</td></tr><tr><td>&quot;null_count&quot;</td><td>0.0</td><td>&quot;0&quot;</td><td>0.0</td><td>&quot;0&quot;</td><td>0.0</td><td>0.0</td><td>&quot;0&quot;</td><td>0.0</td></tr><tr><td>&quot;mean&quot;</td><td>243.397246</td><td>null</td><td>179861.903549</td><td>null</td><td>833883.104074</td><td>855113.668579</td><td>null</td><td>0.001291</td></tr><tr><td>&quot;std&quot;</td><td>142.331971</td><td>null</td><td>603858.231463</td><td>null</td><td>2.8882e6</td><td>2.9240e6</td><td>null</td><td>0.035905</td></tr><tr><td>&quot;min&quot;</td><td>1.0</td><td>&quot;CASH_IN&quot;</td><td>0.0</td><td>&quot;C1000000639&quot;</td><td>0.0</td><td>0.0</td><td>&quot;C1000004082&quot;</td><td>0.0</td></tr><tr><td>&quot;25%&quot;</td><td>156.0</td><td>null</td><td>13389.57</td><td>null</td><td>0.0</td><td>0.0</td><td>null</td><td>0.0</td></tr><tr><td>&quot;50%&quot;</td><td>239.0</td><td>null</td><td>74872.08</td><td>null</td><td>14208.0</td><td>0.0</td><td>null</td><td>0.0</td></tr><tr><td>&quot;75%&quot;</td><td>335.0</td><td>null</td><td>208721.45</td><td>null</td><td>107315.0</td><td>144258.41</td><td>null</td><td>0.0</td></tr><tr><td>&quot;max&quot;</td><td>743.0</td><td>&quot;TRANSFER&quot;</td><td>9.2446e7</td><td>&quot;C999999784&quot;</td><td>5.9585e7</td><td>4.9585e7</td><td>&quot;M999999784&quot;</td><td>1.0</td></tr></tbody></table></div>"
            ]
          },
          "metadata": {},
          "execution_count": 14
        }
      ],
      "source": [
        "data.describe()"
      ]
    },
    {
      "cell_type": "markdown",
      "metadata": {
        "id": "194-ygMmskHz"
      },
      "source": [
        "The step variable starts from 1 to 743 which roughly translates to 30,9 days.\n",
        "\n",
        "The mode in the type of transaction is CASH_OUT.\n",
        "\n",
        "The average amount per transaction is 179.861.\n",
        "\n",
        "In the dataset, around 0.1% of all transactions are marked as fraud.\n",
        "\n",
        "There is a lot of variability in the nameOrig variable so it would be hard to oneHotEncode.\n"
      ]
    },
    {
      "cell_type": "markdown",
      "metadata": {
        "id": "5J4C-cGRwAoS"
      },
      "source": [
        "## III. Data Engineering"
      ]
    },
    {
      "cell_type": "code",
      "execution_count": 15,
      "metadata": {
        "id": "LwfwU4_4zV6j"
      },
      "outputs": [],
      "source": [
        "def day_stage(column):\n",
        "  day_hour = column %24\n",
        "  if column==0:\n",
        "    day_hour=24\n",
        "\n",
        "  if 1<=day_hour<6:\n",
        "    return \"early_morning\"\n",
        "  elif 6<=day_hour<12:\n",
        "    return \"morning\"\n",
        "  elif 12<=day_hour<18:\n",
        "    return \"afternoon\"\n",
        "  else:\n",
        "    return \"night\"\n",
        "\n",
        "def week_day(column):\n",
        "  # Get days\n",
        "  day= (column-1)//24\n",
        "  #Get weekday\n",
        "  w_day = (day%7) +1\n",
        "\n",
        "  return w_day\n",
        "\n",
        "\n",
        "def categorize_change(pct_change):\n",
        "    if pct_change < -0.5:\n",
        "        return \"Decrecimiento_importante\"\n",
        "    elif pct_change < -0.2:\n",
        "        return \"Decrecimiento_notable\"\n",
        "    elif pct_change < 0:\n",
        "        return \"Decrecimiento\"\n",
        "    elif pct_change==0:\n",
        "        return \"Sin_cambio\"\n",
        "    elif pct_change < 20:\n",
        "        return \"Incremento\"\n",
        "    elif pct_change < 50:\n",
        "        return \"Incremento_grande\"\n",
        "    else:\n",
        "        return \"Incremento_importante\"\n"
      ]
    },
    {
      "cell_type": "code",
      "execution_count": 16,
      "metadata": {
        "id": "tmoQl7_psjPB"
      },
      "outputs": [],
      "source": [
        "# Turning the step varaible into valuable date variables\n",
        "\n",
        "# Day\n",
        "data = data.with_columns(\n",
        "    np.ceil(data[\"step\"]/24).alias(\"day\")\n",
        ")\n",
        "\n",
        "# Time of day\n",
        "data = data.with_columns(\n",
        "    data[\"step\"].apply(day_stage).alias(\"day_stage\")\n",
        ")\n",
        "\n",
        "# Week day\n",
        "data = data.with_columns(\n",
        "    data[\"step\"].apply(week_day).alias(\"week_day\").cast(pl.Utf8)\n",
        ")\n",
        "\n",
        "# Percentaje of balance transfered from origin account\n",
        "data = data.with_columns(\n",
        "    (((data[\"newbalanceOrig\"]-data[\"oldbalanceOrg\"]))/data[\"oldbalanceOrg\"]).alias(\"pct_change\")\n",
        ")\n",
        "\n",
        "data = data.with_columns(\n",
        "    data[\"pct_change\"].apply(categorize_change).alias(\"cat_change\")\n",
        ")\n",
        "\n",
        "# Type of account sending and recieving the transaction\n",
        "\n",
        "data = data.with_columns(\n",
        "    data[\"nameOrig\"].apply(lambda i: i[0]).alias(\"orig_acc\")\n",
        ")\n",
        "\n",
        "data = data.with_columns(\n",
        "    data[\"nameDest\"].apply(lambda i: i[0]).alias(\"rec_acc\")\n",
        ")\n",
        "\n",
        "\n",
        "data = data.drop([\"oldbalanceDest\",\"newbalanceDest\"])"
      ]
    },
    {
      "cell_type": "markdown",
      "metadata": {
        "id": "auiMM3ng67O5"
      },
      "source": [
        "## IV. Exploratory Data Analysis"
      ]
    },
    {
      "cell_type": "code",
      "execution_count": 17,
      "metadata": {
        "id": "tjEN_fq8-9Lj"
      },
      "outputs": [],
      "source": [
        "%%skip\n",
        "\n",
        "sns.set(style=\"white\")\n",
        "\n",
        "ax = sns.countplot(data,x=\"isFraud\",stat=\"percent\")\n",
        "\n",
        "# Add a title and labels\n",
        "ax.set_title('Fraudulent vs Non-Fraudulent Transactions', fontsize=16)\n",
        "ax.set_xlabel('Is Fraudulent', fontsize=12)\n",
        "ax.set_ylabel('Percentage', fontsize=12)\n",
        "\n",
        "\n",
        "ax.bar_label(ax.containers[0],fontsize=12)\n",
        "\n",
        "# Change x-axis labels\n",
        "ax.set_xticklabels(['Not fraudulent', 'Fraudulent'], fontsize=12)\n",
        "\n",
        "\n",
        "# Display the plot\n",
        "plt.show()"
      ]
    },
    {
      "cell_type": "code",
      "execution_count": 18,
      "metadata": {
        "id": "ctpjb0TL-hrS"
      },
      "outputs": [],
      "source": [
        "#@title Code\n",
        "\n",
        "%%skip\n",
        "\n",
        "\n",
        "# Seleccionar columnas categóricas\n",
        "categorical_columns = ['type', 'day_stage', 'week_day','orig_acc','rec_acc']\n",
        "\n",
        "sns.set(style=\"white\")\n",
        "\n",
        "# Crear un gráfico de barras apiladas del 100% para cada columna categórica\n",
        "fig, axes = plt.subplots(nrows=len(categorical_columns), ncols=1, figsize=(10, len(categorical_columns) * 6))\n",
        "\n",
        "for ax, column in zip(axes, categorical_columns):\n",
        "    counts = data[column].value_counts().sort('count')\n",
        "    total = counts['count'].sum()\n",
        "    percentages = counts.with_columns((counts['count'] / total * 100).round(0).alias('percentage'))\n",
        "\n",
        "    percentages.to_pandas().plot(kind='bar', x=column, y='percentage', stacked=True, ax=ax, colormap=\"Dark2\")\n",
        "    ax.bar_label(ax.containers[0],fontsize=12)\n",
        "    ax.set_title(f'Percentage distribution for {column}')\n",
        "    ax.set_ylabel('Percentage')\n",
        "    ax.set_xlabel(column)\n",
        "\n",
        "plt.tight_layout()\n",
        "plt.show()"
      ]
    },
    {
      "cell_type": "markdown",
      "metadata": {
        "id": "ouezLKFsdW4I"
      },
      "source": [
        "## Multivariate Analysis\n",
        "### Numerical Analysis"
      ]
    },
    {
      "cell_type": "code",
      "execution_count": 19,
      "metadata": {
        "id": "wKHr-RXjVod7"
      },
      "outputs": [],
      "source": [
        "%%skip\n",
        "numeric_cols = data.select(cs.numeric()).corr()\n",
        "\n",
        "plt.figure(figsize=(15,5))\n",
        "sns.set(style=\"white\")\n",
        "\n",
        "with sns.axes_style(\"white\"):\n",
        "    ax = sns.heatmap(numeric_cols, annot=True, square=True,\n",
        "                    xticklabels=numeric_cols.columns,  # Set column labels for x-axis\n",
        "                    yticklabels=numeric_cols.columns)  # Set column labels for y-axis"
      ]
    },
    {
      "cell_type": "markdown",
      "metadata": {
        "id": "YDSsrClZh_N_"
      },
      "source": [
        "## V. Data Preparation"
      ]
    },
    {
      "cell_type": "code",
      "execution_count": 20,
      "metadata": {
        "id": "0BhM3I00f3CS"
      },
      "outputs": [],
      "source": [
        "df_m = data.clone()\n",
        "y = df_m.select([\"isFraud\"])\n",
        "x = df_m.drop([\"step\",\"isFraud\",\"nameOrig\",\"nameDest\",\"pct_change\"])\n",
        "\n",
        "# Categorical variables\n",
        "cat_vars = x.select(~cs.numeric()).columns\n",
        "\n",
        "# Numerical variables\n",
        "num_vars = x.select(cs.numeric()).columns"
      ]
    },
    {
      "cell_type": "markdown",
      "metadata": {
        "id": "boYK4cTtO733"
      },
      "source": [
        "Split the datasets we are going to use to train and validate the model and the dataset we are going to use as if it was real world data to verify the viability of the model and the business."
      ]
    },
    {
      "cell_type": "code",
      "execution_count": 21,
      "metadata": {
        "id": "1AOUys8TlCL2"
      },
      "outputs": [],
      "source": [
        "# Save validation sets\n",
        "x_model, x_val , y_model, y_val = train_test_split(x, y , test_size=.2,stratify=y)\n",
        "\n",
        "# Make the train and test splits for the model training\n",
        "x_train, x_test , y_train, y_test = train_test_split(x_model, y_model , test_size=.2, stratify=y_model)"
      ]
    },
    {
      "cell_type": "markdown",
      "metadata": {
        "id": "zomz2fRK4cF4"
      },
      "source": [
        "### Rescaling"
      ]
    },
    {
      "cell_type": "code",
      "execution_count": 22,
      "metadata": {
        "id": "watLxh3-4bk2"
      },
      "outputs": [],
      "source": [
        "from sklearn.preprocessing import MinMaxScaler\n",
        "\n",
        "scaler = MinMaxScaler()\n",
        "\n",
        "x_model_nums = (\n",
        "  scaler.fit_transform(x_model.select(num_vars).to_pandas())\n",
        ")\n",
        "\n",
        "x_val_nums = (\n",
        "  scaler.transform(x_val.select(num_vars).to_pandas())\n",
        ")\n",
        "\n",
        "\n",
        "x_train_nums = (\n",
        "  scaler.fit_transform(x_train.select(num_vars).to_pandas())\n",
        ")\n",
        "\n",
        "x_test_nums = (\n",
        "  scaler.transform(x_test.select(num_vars).to_pandas())\n",
        ")\n"
      ]
    },
    {
      "cell_type": "markdown",
      "metadata": {
        "id": "sbUgVLjHPxVy"
      },
      "source": [
        "### OneHotEncoding"
      ]
    },
    {
      "cell_type": "code",
      "execution_count": 23,
      "metadata": {
        "id": "zsFKxINStevc"
      },
      "outputs": [],
      "source": [
        "# One hot encoder\n",
        "onehot = OneHotEncoder(cols=cat_vars,use_cat_names=True)\n",
        "\n",
        "# Encode\n",
        "\n",
        "x_model_cats = (\n",
        "    onehot.fit_transform(x_model.select(cat_vars).to_pandas())\n",
        "    ).to_numpy()\n",
        "\n",
        "x_val_cats = (\n",
        "    onehot.transform(x_val.select(cat_vars).to_pandas())\n",
        "    ).to_numpy()\n",
        "\n",
        "x_train_cats = (\n",
        "    onehot.fit_transform(x_train.select(cat_vars).to_pandas())\n",
        "    ).to_numpy()\n",
        "\n",
        "x_test_cats = (\n",
        "    onehot.transform(x_test.select(cat_vars).to_pandas())\n",
        "    ).to_numpy()\n"
      ]
    },
    {
      "cell_type": "markdown",
      "metadata": {
        "id": "B_1pPXPQCqy-"
      },
      "source": [
        "### Concatenate the rescaled numeric variables and onehotencoded categorical variables"
      ]
    },
    {
      "cell_type": "code",
      "execution_count": 24,
      "metadata": {
        "id": "xdBZaTxSCqOo"
      },
      "outputs": [],
      "source": [
        "x_model_f = np.hstack((x_model_cats,x_model_nums))\n",
        "x_val_f = np.hstack((x_val_cats,x_val_nums))\n",
        "x_train_f = np.hstack((x_train_cats,x_train_nums))\n",
        "x_test_f = np.hstack((x_test_cats,x_test_nums))"
      ]
    },
    {
      "cell_type": "code",
      "execution_count": 25,
      "metadata": {
        "id": "0xMbmbZy0ljW",
        "colab": {
          "base_uri": "https://localhost:8080/"
        },
        "outputId": "4f749dbd-68c5-44b9-99d7-c6fd7f94a320"
      },
      "outputs": [
        {
          "output_type": "execute_result",
          "data": {
            "text/plain": [
              "20"
            ]
          },
          "metadata": {},
          "execution_count": 25
        }
      ],
      "source": [
        "x_model_cats = None\n",
        "x_model_nums= None\n",
        "x_val_cats= None\n",
        "x_val_nums= None\n",
        "x_train_cats= None\n",
        "x_train_nums= None\n",
        "x_test_cats= None\n",
        "x_test_nums= None\n",
        "\n",
        "x_model =None\n",
        "x_train= None\n",
        "x_test = None\n",
        "\n",
        "df_m = None\n",
        "data = None\n",
        "\n",
        "gc.collect()"
      ]
    },
    {
      "cell_type": "markdown",
      "metadata": {
        "id": "aK99F50ztLB0"
      },
      "source": [
        "## VI. Modelling"
      ]
    },
    {
      "cell_type": "code",
      "execution_count": 26,
      "metadata": {
        "id": "tpw9_F58yoVE"
      },
      "outputs": [],
      "source": [
        "from sklearn.metrics import roc_auc_score, precision_score, balanced_accuracy_score, recall_score, f1_score\n",
        "from sklearn.dummy        import DummyClassifier\n",
        "from sklearn.model_selection import StratifiedKFold\n",
        "\n",
        "from sklearn.linear_model import LogisticRegression\n",
        "from sklearn.ensemble     import RandomForestClassifier\n",
        "from sklearn.svm          import SVC\n",
        "\n",
        "from xgboost  import XGBClassifier\n",
        "from lightgbm import LGBMClassifier"
      ]
    },
    {
      "cell_type": "code",
      "execution_count": 27,
      "metadata": {
        "id": "7Ywa9KbLuII_"
      },
      "outputs": [],
      "source": [
        "def ml_scoring(name: str, y_valid, y_pred):\n",
        "    ps = precision_score(y_valid, y_pred, zero_division=1)\n",
        "    ac = balanced_accuracy_score(y_valid, y_pred)\n",
        "    recall = recall_score(y_valid, y_pred, zero_division=1)\n",
        "    f1 = f1_score(y_valid, y_pred, zero_division=1)\n",
        "    roc = roc_auc_score(y_valid, y_pred)\n",
        "\n",
        "    return pd.DataFrame({\n",
        "        \"Precision\": ps,\n",
        "        \"Accuracy\": ac,\n",
        "        \"Recall\": recall,\n",
        "        \"F1\": f1,\n",
        "        \"ROC-AUC\": roc\n",
        "    }, index=[name])"
      ]
    },
    {
      "cell_type": "markdown",
      "metadata": {
        "id": "9EvJ0YrJtPty"
      },
      "source": [
        "### 1. Baseline\n",
        "\n",
        "We are going to use DummyClassifier as a baseline model for our classification task. It does not learn anything from the data itself but uses several rules to make the predictions.\n",
        "\n"
      ]
    },
    {
      "cell_type": "code",
      "execution_count": 28,
      "metadata": {
        "id": "yl6URYRDtN9x"
      },
      "outputs": [],
      "source": [
        "%%skip\n",
        "\n",
        "dum = DummyClassifier()\n",
        "dum.fit(x_train_f, y_train)\n",
        "\n",
        "y_pred = dum.predict(x_test_f)\n",
        "\n",
        "dum_scores = ml_scoring(\"Dummy\",y_test,y_pred)\n",
        "dum_scores"
      ]
    },
    {
      "cell_type": "markdown",
      "metadata": {
        "id": "GMrXMbDd0hSk"
      },
      "source": [
        "The previous results show that:\n",
        "1. A precision of 0.0 means that the model didnt identify any real fraud transactions out of all transactions marked as fraud.\n",
        "\n",
        "2. An accuracy of 0.5 means the model predicted half of the fraud transactions succesfully. If we take into accont the previous result, this means the model predicted all the true negatives but not a single true positive, this could be a result of the model always predicting the majority class.\n",
        "\n",
        "3. A recall of 0.0 means the model missed all the true positive fraud transactions in the class.\n",
        "\n",
        "4. A F1 score of 0.0 shows a poor performance of the model identifying  positives and avoiding false positives.\n",
        "\n",
        "5.  ROC-AUC of 0.5 means the model does not perform better than guessing classes. Thus, it does not separate effectively positive and negative classes."
      ]
    },
    {
      "cell_type": "markdown",
      "metadata": {
        "id": "MxW5PJzGnFKU"
      },
      "source": [
        "### 2. Logistic Regression"
      ]
    },
    {
      "cell_type": "code",
      "execution_count": 29,
      "metadata": {
        "id": "8piy2KLBnE1d"
      },
      "outputs": [],
      "source": [
        "%%skip\n",
        "\n",
        "lr = LogisticRegression()\n",
        "lr.fit(x_train_f, y_train)\n",
        "y_pred_lr = lr.predict(x_test_f)\n",
        "\n",
        "lr_scores = ml_scoring(\"Logistic Regression\",y_test,y_pred_lr)\n",
        "lr_scores"
      ]
    },
    {
      "cell_type": "markdown",
      "metadata": {
        "id": "ckujnlJ7n1_D"
      },
      "source": [
        "### 3. Support Vector Machine"
      ]
    },
    {
      "cell_type": "code",
      "execution_count": 30,
      "metadata": {
        "id": "qhhC2uyWfZe1"
      },
      "outputs": [],
      "source": [
        "%%skip\n",
        "\n",
        "\n",
        "svm = SVC(kernel=\"sigmoid\")\n",
        "svm.fit(x_train_f, y_train)\n",
        "\n",
        "y_pred_svm = svm.predict(x_test_f)\n",
        "\n",
        "svm_scores = ml_scoring(\"SVM\", y_test, y_pred_svm)\n",
        "svm_scores"
      ]
    },
    {
      "cell_type": "markdown",
      "metadata": {
        "id": "2UQrB92ObPLm"
      },
      "source": [
        "### 4. RandomForestClassifier"
      ]
    },
    {
      "cell_type": "code",
      "execution_count": 31,
      "metadata": {
        "id": "h83DnL0_0g_5"
      },
      "outputs": [],
      "source": [
        "%%skip\n",
        "\n",
        "rfc = RandomForestClassifier()\n",
        "rfc.fit(x_train_f, y_train)\n",
        "y_pred_rfc = rfc.predict(x_test_f)\n",
        "\n",
        "rfc_scores = ml_scoring(\"RFC\", y_test, y_pred_rfc)\n",
        "rfc_scores"
      ]
    },
    {
      "cell_type": "markdown",
      "metadata": {
        "id": "tZyN8fFuf3fg"
      },
      "source": [
        "### 5. LightGMB Classifier"
      ]
    },
    {
      "cell_type": "code",
      "execution_count": 32,
      "metadata": {
        "id": "J12h_D40f3Hm"
      },
      "outputs": [],
      "source": [
        "%%skip\n",
        "lbm = LGBMClassifier()\n",
        "lbm.fit(x_train_f, y_train)\n",
        "y_pred_lbm = lbm.predict(x_test_f)\n",
        "\n",
        "lbm_scores = ml_scoring(\"LBM\", y_test, y_pred_lbm)\n",
        "lbm_scores"
      ]
    },
    {
      "cell_type": "markdown",
      "metadata": {
        "id": "Co4p7yoqga43"
      },
      "source": [
        "### 6. XGBoost Classifier"
      ]
    },
    {
      "cell_type": "code",
      "execution_count": 33,
      "metadata": {
        "id": "nYB0H8z9gaXy"
      },
      "outputs": [],
      "source": [
        "%%skip\n",
        "xb = XGBClassifier()\n",
        "xb.fit(x_train_f, y_train)\n",
        "y_pred_xb = xb.predict(x_test_f)\n",
        "\n",
        "xg_scores = ml_scoring(\"XGBoost\", y_test,y_pred_xb)\n",
        "xg_scores"
      ]
    },
    {
      "cell_type": "markdown",
      "metadata": {
        "id": "SyBXrdPVg1As"
      },
      "source": [
        "## Overall Performance"
      ]
    },
    {
      "cell_type": "code",
      "execution_count": 34,
      "metadata": {
        "id": "fSO0VxJ3g2rV"
      },
      "outputs": [],
      "source": [
        "%%skip\n",
        "scores = pd.concat([dum_scores,lr_scores,rfc_scores,lbm_scores,xg_scores])\n",
        "scores"
      ]
    },
    {
      "cell_type": "markdown",
      "metadata": {
        "id": "wabQ2JOPEbmC"
      },
      "source": [
        "The results show the best performance comes out of the XGBoost model so the next step is to fine tune it to get the best performance out of the model.\n",
        "\n",
        "### Fine Tuning"
      ]
    },
    {
      "cell_type": "code",
      "execution_count": 35,
      "metadata": {
        "id": "dopMI0BCG2Nc"
      },
      "outputs": [],
      "source": [
        "from sklearn.model_selection import GridSearchCV\n",
        "from sklearn.metrics import make_scorer, f1_score\n",
        "import math"
      ]
    },
    {
      "cell_type": "code",
      "source": [
        "from scipy import sparse\n",
        "s_y_train = sparse.csr_matrix(y_train)"
      ],
      "metadata": {
        "id": "a81wLqHvZogG"
      },
      "execution_count": 36,
      "outputs": []
    },
    {
      "cell_type": "code",
      "execution_count": 37,
      "metadata": {
        "id": "TrR82_Q6lUaq"
      },
      "outputs": [],
      "source": [
        "%%skip\n",
        "parameters = {\n",
        "    'booster': ['gbtree', 'gblinear'],\n",
        "    'eta': [0.5, 0.01],\n",
        "    'max_depth':[3,5],\n",
        "    'min_child_weight':[2,6],\n",
        "    'subsample':[0.7],\n",
        "    'colsample_bytree':[0.7],\n",
        "    'scale_pos_weight':[math.sqrt((s_y_train).shape[0]/s_y_train.sum())],\n",
        "    'seed':[123]\n",
        "\n",
        "}\n",
        "\n",
        "# I am going to use the F1 score because 1. the target variable has an\n",
        "# unbalanced class and 2. it balances the trade off between precision and recall.\n",
        "\n",
        "f1_scorer = make_scorer(f1_score)\n"
      ]
    },
    {
      "cell_type": "code",
      "execution_count": 38,
      "metadata": {
        "id": "Y647GRjzGxFY"
      },
      "outputs": [],
      "source": [
        "%%skip\n",
        "\n",
        "gc.collect()\n",
        "\n",
        "grid_xg = GridSearchCV(XGBClassifier(),\n",
        "                       param_grid=parameters,\n",
        "                       scoring=f1_scorer ,\n",
        "                       cv=StratifiedKFold(n_splits=2 ),\n",
        "                       verbose=3,\n",
        "                       n_jobs=-1)\n",
        "\n",
        "grid_xg.fit(x_train_f,y_train)\n",
        "\n",
        "print(grid_xg.best_params_)\n",
        "\n",
        "print(\"The best F1 score is: \" , grid_xg.best_score_)"
      ]
    },
    {
      "cell_type": "markdown",
      "source": [
        "### Best model results"
      ],
      "metadata": {
        "id": "Nd4wypa3FP6c"
      }
    },
    {
      "cell_type": "code",
      "execution_count": 39,
      "metadata": {
        "id": "2PA2O6xHNP1D",
        "colab": {
          "base_uri": "https://localhost:8080/",
          "height": 89
        },
        "outputId": "1afe385f-f10c-4118-fb53-f139aad33b2f"
      },
      "outputs": [
        {
          "output_type": "execute_result",
          "data": {
            "text/plain": [
              "                     Precision  Accuracy    Recall        F1   ROC-AUC\n",
              "XGBoost_Best_params   0.593284  0.983589  0.968037  0.735685  0.983589"
            ],
            "text/html": [
              "\n",
              "  <div id=\"df-4e3a32dd-5030-4907-8b6e-c442ee87c555\" class=\"colab-df-container\">\n",
              "    <div>\n",
              "<style scoped>\n",
              "    .dataframe tbody tr th:only-of-type {\n",
              "        vertical-align: middle;\n",
              "    }\n",
              "\n",
              "    .dataframe tbody tr th {\n",
              "        vertical-align: top;\n",
              "    }\n",
              "\n",
              "    .dataframe thead th {\n",
              "        text-align: right;\n",
              "    }\n",
              "</style>\n",
              "<table border=\"1\" class=\"dataframe\">\n",
              "  <thead>\n",
              "    <tr style=\"text-align: right;\">\n",
              "      <th></th>\n",
              "      <th>Precision</th>\n",
              "      <th>Accuracy</th>\n",
              "      <th>Recall</th>\n",
              "      <th>F1</th>\n",
              "      <th>ROC-AUC</th>\n",
              "    </tr>\n",
              "  </thead>\n",
              "  <tbody>\n",
              "    <tr>\n",
              "      <th>XGBoost_Best_params</th>\n",
              "      <td>0.593284</td>\n",
              "      <td>0.983589</td>\n",
              "      <td>0.968037</td>\n",
              "      <td>0.735685</td>\n",
              "      <td>0.983589</td>\n",
              "    </tr>\n",
              "  </tbody>\n",
              "</table>\n",
              "</div>\n",
              "    <div class=\"colab-df-buttons\">\n",
              "\n",
              "  <div class=\"colab-df-container\">\n",
              "    <button class=\"colab-df-convert\" onclick=\"convertToInteractive('df-4e3a32dd-5030-4907-8b6e-c442ee87c555')\"\n",
              "            title=\"Convert this dataframe to an interactive table.\"\n",
              "            style=\"display:none;\">\n",
              "\n",
              "  <svg xmlns=\"http://www.w3.org/2000/svg\" height=\"24px\" viewBox=\"0 -960 960 960\">\n",
              "    <path d=\"M120-120v-720h720v720H120Zm60-500h600v-160H180v160Zm220 220h160v-160H400v160Zm0 220h160v-160H400v160ZM180-400h160v-160H180v160Zm440 0h160v-160H620v160ZM180-180h160v-160H180v160Zm440 0h160v-160H620v160Z\"/>\n",
              "  </svg>\n",
              "    </button>\n",
              "\n",
              "  <style>\n",
              "    .colab-df-container {\n",
              "      display:flex;\n",
              "      gap: 12px;\n",
              "    }\n",
              "\n",
              "    .colab-df-convert {\n",
              "      background-color: #E8F0FE;\n",
              "      border: none;\n",
              "      border-radius: 50%;\n",
              "      cursor: pointer;\n",
              "      display: none;\n",
              "      fill: #1967D2;\n",
              "      height: 32px;\n",
              "      padding: 0 0 0 0;\n",
              "      width: 32px;\n",
              "    }\n",
              "\n",
              "    .colab-df-convert:hover {\n",
              "      background-color: #E2EBFA;\n",
              "      box-shadow: 0px 1px 2px rgba(60, 64, 67, 0.3), 0px 1px 3px 1px rgba(60, 64, 67, 0.15);\n",
              "      fill: #174EA6;\n",
              "    }\n",
              "\n",
              "    .colab-df-buttons div {\n",
              "      margin-bottom: 4px;\n",
              "    }\n",
              "\n",
              "    [theme=dark] .colab-df-convert {\n",
              "      background-color: #3B4455;\n",
              "      fill: #D2E3FC;\n",
              "    }\n",
              "\n",
              "    [theme=dark] .colab-df-convert:hover {\n",
              "      background-color: #434B5C;\n",
              "      box-shadow: 0px 1px 3px 1px rgba(0, 0, 0, 0.15);\n",
              "      filter: drop-shadow(0px 1px 2px rgba(0, 0, 0, 0.3));\n",
              "      fill: #FFFFFF;\n",
              "    }\n",
              "  </style>\n",
              "\n",
              "    <script>\n",
              "      const buttonEl =\n",
              "        document.querySelector('#df-4e3a32dd-5030-4907-8b6e-c442ee87c555 button.colab-df-convert');\n",
              "      buttonEl.style.display =\n",
              "        google.colab.kernel.accessAllowed ? 'block' : 'none';\n",
              "\n",
              "      async function convertToInteractive(key) {\n",
              "        const element = document.querySelector('#df-4e3a32dd-5030-4907-8b6e-c442ee87c555');\n",
              "        const dataTable =\n",
              "          await google.colab.kernel.invokeFunction('convertToInteractive',\n",
              "                                                    [key], {});\n",
              "        if (!dataTable) return;\n",
              "\n",
              "        const docLinkHtml = 'Like what you see? Visit the ' +\n",
              "          '<a target=\"_blank\" href=https://colab.research.google.com/notebooks/data_table.ipynb>data table notebook</a>'\n",
              "          + ' to learn more about interactive tables.';\n",
              "        element.innerHTML = '';\n",
              "        dataTable['output_type'] = 'display_data';\n",
              "        await google.colab.output.renderOutput(dataTable, element);\n",
              "        const docLink = document.createElement('div');\n",
              "        docLink.innerHTML = docLinkHtml;\n",
              "        element.appendChild(docLink);\n",
              "      }\n",
              "    </script>\n",
              "  </div>\n",
              "\n",
              "\n",
              "  <div id=\"id_6961f222-a0dd-4801-89d2-5e0420731e55\">\n",
              "    <style>\n",
              "      .colab-df-generate {\n",
              "        background-color: #E8F0FE;\n",
              "        border: none;\n",
              "        border-radius: 50%;\n",
              "        cursor: pointer;\n",
              "        display: none;\n",
              "        fill: #1967D2;\n",
              "        height: 32px;\n",
              "        padding: 0 0 0 0;\n",
              "        width: 32px;\n",
              "      }\n",
              "\n",
              "      .colab-df-generate:hover {\n",
              "        background-color: #E2EBFA;\n",
              "        box-shadow: 0px 1px 2px rgba(60, 64, 67, 0.3), 0px 1px 3px 1px rgba(60, 64, 67, 0.15);\n",
              "        fill: #174EA6;\n",
              "      }\n",
              "\n",
              "      [theme=dark] .colab-df-generate {\n",
              "        background-color: #3B4455;\n",
              "        fill: #D2E3FC;\n",
              "      }\n",
              "\n",
              "      [theme=dark] .colab-df-generate:hover {\n",
              "        background-color: #434B5C;\n",
              "        box-shadow: 0px 1px 3px 1px rgba(0, 0, 0, 0.15);\n",
              "        filter: drop-shadow(0px 1px 2px rgba(0, 0, 0, 0.3));\n",
              "        fill: #FFFFFF;\n",
              "      }\n",
              "    </style>\n",
              "    <button class=\"colab-df-generate\" onclick=\"generateWithVariable('xg_best_scores')\"\n",
              "            title=\"Generate code using this dataframe.\"\n",
              "            style=\"display:none;\">\n",
              "\n",
              "  <svg xmlns=\"http://www.w3.org/2000/svg\" height=\"24px\"viewBox=\"0 0 24 24\"\n",
              "       width=\"24px\">\n",
              "    <path d=\"M7,19H8.4L18.45,9,17,7.55,7,17.6ZM5,21V16.75L18.45,3.32a2,2,0,0,1,2.83,0l1.4,1.43a1.91,1.91,0,0,1,.58,1.4,1.91,1.91,0,0,1-.58,1.4L9.25,21ZM18.45,9,17,7.55Zm-12,3A5.31,5.31,0,0,0,4.9,8.1,5.31,5.31,0,0,0,1,6.5,5.31,5.31,0,0,0,4.9,4.9,5.31,5.31,0,0,0,6.5,1,5.31,5.31,0,0,0,8.1,4.9,5.31,5.31,0,0,0,12,6.5,5.46,5.46,0,0,0,6.5,12Z\"/>\n",
              "  </svg>\n",
              "    </button>\n",
              "    <script>\n",
              "      (() => {\n",
              "      const buttonEl =\n",
              "        document.querySelector('#id_6961f222-a0dd-4801-89d2-5e0420731e55 button.colab-df-generate');\n",
              "      buttonEl.style.display =\n",
              "        google.colab.kernel.accessAllowed ? 'block' : 'none';\n",
              "\n",
              "      buttonEl.onclick = () => {\n",
              "        google.colab.notebook.generateWithVariable('xg_best_scores');\n",
              "      }\n",
              "      })();\n",
              "    </script>\n",
              "  </div>\n",
              "\n",
              "    </div>\n",
              "  </div>\n"
            ],
            "application/vnd.google.colaboratory.intrinsic+json": {
              "type": "dataframe",
              "variable_name": "xg_best_scores",
              "summary": "{\n  \"name\": \"xg_best_scores\",\n  \"rows\": 1,\n  \"fields\": [\n    {\n      \"column\": \"Precision\",\n      \"properties\": {\n        \"dtype\": \"number\",\n        \"std\": null,\n        \"min\": 0.5932835820895522,\n        \"max\": 0.5932835820895522,\n        \"num_unique_values\": 1,\n        \"samples\": [\n          0.5932835820895522\n        ],\n        \"semantic_type\": \"\",\n        \"description\": \"\"\n      }\n    },\n    {\n      \"column\": \"Accuracy\",\n      \"properties\": {\n        \"dtype\": \"number\",\n        \"std\": null,\n        \"min\": 0.9835894289721933,\n        \"max\": 0.9835894289721933,\n        \"num_unique_values\": 1,\n        \"samples\": [\n          0.9835894289721933\n        ],\n        \"semantic_type\": \"\",\n        \"description\": \"\"\n      }\n    },\n    {\n      \"column\": \"Recall\",\n      \"properties\": {\n        \"dtype\": \"number\",\n        \"std\": null,\n        \"min\": 0.9680365296803652,\n        \"max\": 0.9680365296803652,\n        \"num_unique_values\": 1,\n        \"samples\": [\n          0.9680365296803652\n        ],\n        \"semantic_type\": \"\",\n        \"description\": \"\"\n      }\n    },\n    {\n      \"column\": \"F1\",\n      \"properties\": {\n        \"dtype\": \"number\",\n        \"std\": null,\n        \"min\": 0.7356853672643145,\n        \"max\": 0.7356853672643145,\n        \"num_unique_values\": 1,\n        \"samples\": [\n          0.7356853672643145\n        ],\n        \"semantic_type\": \"\",\n        \"description\": \"\"\n      }\n    },\n    {\n      \"column\": \"ROC-AUC\",\n      \"properties\": {\n        \"dtype\": \"number\",\n        \"std\": null,\n        \"min\": 0.9835894289721933,\n        \"max\": 0.9835894289721933,\n        \"num_unique_values\": 1,\n        \"samples\": [\n          0.9835894289721933\n        ],\n        \"semantic_type\": \"\",\n        \"description\": \"\"\n      }\n    }\n  ]\n}"
            }
          },
          "metadata": {},
          "execution_count": 39
        }
      ],
      "source": [
        "best_params = {'booster': 'gbtree', 'colsample_bytree': 0.7,\n",
        "               'eta': 0.5, 'max_depth': 5, 'min_child_weight': 6,\n",
        "               'scale_pos_weight': 27.834297142419118, 'seed': 123,\n",
        "               'subsample': 0.7}\n",
        "\n",
        "xg_best = XGBClassifier(**best_params)\n",
        "\n",
        "xg_best.fit(x_train_f,y_train)\n",
        "\n",
        "y_pred_xgbest = xg_best.predict(x_test_f)\n",
        "xg_best_scores = ml_scoring(\"XGBoost_Best_params\", y_test,y_pred_xgbest)\n",
        "xg_best_scores"
      ]
    },
    {
      "cell_type": "markdown",
      "source": [
        "## VII. Final Model"
      ],
      "metadata": {
        "id": "iz_W5x5XFZ3V"
      }
    },
    {
      "cell_type": "code",
      "source": [
        "\n",
        "xg_final = XGBClassifier(**best_params)\n",
        "xg_final.fit(x_model_f,y_model)"
      ],
      "metadata": {
        "colab": {
          "base_uri": "https://localhost:8080/",
          "height": 248
        },
        "id": "XNQ8vA5DE2IZ",
        "outputId": "7cce0cab-7b25-46aa-f432-3609987110ff"
      },
      "execution_count": 40,
      "outputs": [
        {
          "output_type": "execute_result",
          "data": {
            "text/plain": [
              "XGBClassifier(base_score=None, booster='gbtree', callbacks=None,\n",
              "              colsample_bylevel=None, colsample_bynode=None,\n",
              "              colsample_bytree=0.7, device=None, early_stopping_rounds=None,\n",
              "              enable_categorical=False, eta=0.5, eval_metric=None,\n",
              "              feature_types=None, gamma=None, grow_policy=None,\n",
              "              importance_type=None, interaction_constraints=None,\n",
              "              learning_rate=None, max_bin=None, max_cat_threshold=None,\n",
              "              max_cat_to_onehot=None, max_delta_step=None, max_depth=5,\n",
              "              max_leaves=None, min_child_weight=6, missing=nan,\n",
              "              monotone_constraints=None, multi_strategy=None, n_estimators=None,\n",
              "              n_jobs=None, num_parallel_tree=None, ...)"
            ],
            "text/html": [
              "<style>#sk-container-id-1 {color: black;background-color: white;}#sk-container-id-1 pre{padding: 0;}#sk-container-id-1 div.sk-toggleable {background-color: white;}#sk-container-id-1 label.sk-toggleable__label {cursor: pointer;display: block;width: 100%;margin-bottom: 0;padding: 0.3em;box-sizing: border-box;text-align: center;}#sk-container-id-1 label.sk-toggleable__label-arrow:before {content: \"▸\";float: left;margin-right: 0.25em;color: #696969;}#sk-container-id-1 label.sk-toggleable__label-arrow:hover:before {color: black;}#sk-container-id-1 div.sk-estimator:hover label.sk-toggleable__label-arrow:before {color: black;}#sk-container-id-1 div.sk-toggleable__content {max-height: 0;max-width: 0;overflow: hidden;text-align: left;background-color: #f0f8ff;}#sk-container-id-1 div.sk-toggleable__content pre {margin: 0.2em;color: black;border-radius: 0.25em;background-color: #f0f8ff;}#sk-container-id-1 input.sk-toggleable__control:checked~div.sk-toggleable__content {max-height: 200px;max-width: 100%;overflow: auto;}#sk-container-id-1 input.sk-toggleable__control:checked~label.sk-toggleable__label-arrow:before {content: \"▾\";}#sk-container-id-1 div.sk-estimator input.sk-toggleable__control:checked~label.sk-toggleable__label {background-color: #d4ebff;}#sk-container-id-1 div.sk-label input.sk-toggleable__control:checked~label.sk-toggleable__label {background-color: #d4ebff;}#sk-container-id-1 input.sk-hidden--visually {border: 0;clip: rect(1px 1px 1px 1px);clip: rect(1px, 1px, 1px, 1px);height: 1px;margin: -1px;overflow: hidden;padding: 0;position: absolute;width: 1px;}#sk-container-id-1 div.sk-estimator {font-family: monospace;background-color: #f0f8ff;border: 1px dotted black;border-radius: 0.25em;box-sizing: border-box;margin-bottom: 0.5em;}#sk-container-id-1 div.sk-estimator:hover {background-color: #d4ebff;}#sk-container-id-1 div.sk-parallel-item::after {content: \"\";width: 100%;border-bottom: 1px solid gray;flex-grow: 1;}#sk-container-id-1 div.sk-label:hover label.sk-toggleable__label {background-color: #d4ebff;}#sk-container-id-1 div.sk-serial::before {content: \"\";position: absolute;border-left: 1px solid gray;box-sizing: border-box;top: 0;bottom: 0;left: 50%;z-index: 0;}#sk-container-id-1 div.sk-serial {display: flex;flex-direction: column;align-items: center;background-color: white;padding-right: 0.2em;padding-left: 0.2em;position: relative;}#sk-container-id-1 div.sk-item {position: relative;z-index: 1;}#sk-container-id-1 div.sk-parallel {display: flex;align-items: stretch;justify-content: center;background-color: white;position: relative;}#sk-container-id-1 div.sk-item::before, #sk-container-id-1 div.sk-parallel-item::before {content: \"\";position: absolute;border-left: 1px solid gray;box-sizing: border-box;top: 0;bottom: 0;left: 50%;z-index: -1;}#sk-container-id-1 div.sk-parallel-item {display: flex;flex-direction: column;z-index: 1;position: relative;background-color: white;}#sk-container-id-1 div.sk-parallel-item:first-child::after {align-self: flex-end;width: 50%;}#sk-container-id-1 div.sk-parallel-item:last-child::after {align-self: flex-start;width: 50%;}#sk-container-id-1 div.sk-parallel-item:only-child::after {width: 0;}#sk-container-id-1 div.sk-dashed-wrapped {border: 1px dashed gray;margin: 0 0.4em 0.5em 0.4em;box-sizing: border-box;padding-bottom: 0.4em;background-color: white;}#sk-container-id-1 div.sk-label label {font-family: monospace;font-weight: bold;display: inline-block;line-height: 1.2em;}#sk-container-id-1 div.sk-label-container {text-align: center;}#sk-container-id-1 div.sk-container {/* jupyter's `normalize.less` sets `[hidden] { display: none; }` but bootstrap.min.css set `[hidden] { display: none !important; }` so we also need the `!important` here to be able to override the default hidden behavior on the sphinx rendered scikit-learn.org. See: https://github.com/scikit-learn/scikit-learn/issues/21755 */display: inline-block !important;position: relative;}#sk-container-id-1 div.sk-text-repr-fallback {display: none;}</style><div id=\"sk-container-id-1\" class=\"sk-top-container\"><div class=\"sk-text-repr-fallback\"><pre>XGBClassifier(base_score=None, booster=&#x27;gbtree&#x27;, callbacks=None,\n",
              "              colsample_bylevel=None, colsample_bynode=None,\n",
              "              colsample_bytree=0.7, device=None, early_stopping_rounds=None,\n",
              "              enable_categorical=False, eta=0.5, eval_metric=None,\n",
              "              feature_types=None, gamma=None, grow_policy=None,\n",
              "              importance_type=None, interaction_constraints=None,\n",
              "              learning_rate=None, max_bin=None, max_cat_threshold=None,\n",
              "              max_cat_to_onehot=None, max_delta_step=None, max_depth=5,\n",
              "              max_leaves=None, min_child_weight=6, missing=nan,\n",
              "              monotone_constraints=None, multi_strategy=None, n_estimators=None,\n",
              "              n_jobs=None, num_parallel_tree=None, ...)</pre><b>In a Jupyter environment, please rerun this cell to show the HTML representation or trust the notebook. <br />On GitHub, the HTML representation is unable to render, please try loading this page with nbviewer.org.</b></div><div class=\"sk-container\" hidden><div class=\"sk-item\"><div class=\"sk-estimator sk-toggleable\"><input class=\"sk-toggleable__control sk-hidden--visually\" id=\"sk-estimator-id-1\" type=\"checkbox\" checked><label for=\"sk-estimator-id-1\" class=\"sk-toggleable__label sk-toggleable__label-arrow\">XGBClassifier</label><div class=\"sk-toggleable__content\"><pre>XGBClassifier(base_score=None, booster=&#x27;gbtree&#x27;, callbacks=None,\n",
              "              colsample_bylevel=None, colsample_bynode=None,\n",
              "              colsample_bytree=0.7, device=None, early_stopping_rounds=None,\n",
              "              enable_categorical=False, eta=0.5, eval_metric=None,\n",
              "              feature_types=None, gamma=None, grow_policy=None,\n",
              "              importance_type=None, interaction_constraints=None,\n",
              "              learning_rate=None, max_bin=None, max_cat_threshold=None,\n",
              "              max_cat_to_onehot=None, max_delta_step=None, max_depth=5,\n",
              "              max_leaves=None, min_child_weight=6, missing=nan,\n",
              "              monotone_constraints=None, multi_strategy=None, n_estimators=None,\n",
              "              n_jobs=None, num_parallel_tree=None, ...)</pre></div></div></div></div></div>"
            ]
          },
          "metadata": {},
          "execution_count": 40
        }
      ]
    },
    {
      "cell_type": "markdown",
      "source": [
        "### Unseed data"
      ],
      "metadata": {
        "id": "vtzyvd2iIjrB"
      }
    },
    {
      "cell_type": "code",
      "source": [
        "y_pred_xg_final = xg_final.predict(x_val_f)\n",
        "\n",
        "xgb_unseen = ml_scoring(\"XGBoost Unseen Data\", y_val,y_pred_xg_final)\n",
        "xgb_unseen"
      ],
      "metadata": {
        "colab": {
          "base_uri": "https://localhost:8080/",
          "height": 89
        },
        "id": "eU_-uvTLIjHt",
        "outputId": "964a2c3b-99d8-4427-b9fb-d56eb6bffc37"
      },
      "execution_count": 41,
      "outputs": [
        {
          "output_type": "execute_result",
          "data": {
            "text/plain": [
              "                     Precision  Accuracy    Recall        F1   ROC-AUC\n",
              "XGBoost Unseen Data   0.600449  0.988016  0.976872  0.743744  0.988016"
            ],
            "text/html": [
              "\n",
              "  <div id=\"df-37f715ec-f4ff-496e-adc1-2a5a13a3c064\" class=\"colab-df-container\">\n",
              "    <div>\n",
              "<style scoped>\n",
              "    .dataframe tbody tr th:only-of-type {\n",
              "        vertical-align: middle;\n",
              "    }\n",
              "\n",
              "    .dataframe tbody tr th {\n",
              "        vertical-align: top;\n",
              "    }\n",
              "\n",
              "    .dataframe thead th {\n",
              "        text-align: right;\n",
              "    }\n",
              "</style>\n",
              "<table border=\"1\" class=\"dataframe\">\n",
              "  <thead>\n",
              "    <tr style=\"text-align: right;\">\n",
              "      <th></th>\n",
              "      <th>Precision</th>\n",
              "      <th>Accuracy</th>\n",
              "      <th>Recall</th>\n",
              "      <th>F1</th>\n",
              "      <th>ROC-AUC</th>\n",
              "    </tr>\n",
              "  </thead>\n",
              "  <tbody>\n",
              "    <tr>\n",
              "      <th>XGBoost Unseen Data</th>\n",
              "      <td>0.600449</td>\n",
              "      <td>0.988016</td>\n",
              "      <td>0.976872</td>\n",
              "      <td>0.743744</td>\n",
              "      <td>0.988016</td>\n",
              "    </tr>\n",
              "  </tbody>\n",
              "</table>\n",
              "</div>\n",
              "    <div class=\"colab-df-buttons\">\n",
              "\n",
              "  <div class=\"colab-df-container\">\n",
              "    <button class=\"colab-df-convert\" onclick=\"convertToInteractive('df-37f715ec-f4ff-496e-adc1-2a5a13a3c064')\"\n",
              "            title=\"Convert this dataframe to an interactive table.\"\n",
              "            style=\"display:none;\">\n",
              "\n",
              "  <svg xmlns=\"http://www.w3.org/2000/svg\" height=\"24px\" viewBox=\"0 -960 960 960\">\n",
              "    <path d=\"M120-120v-720h720v720H120Zm60-500h600v-160H180v160Zm220 220h160v-160H400v160Zm0 220h160v-160H400v160ZM180-400h160v-160H180v160Zm440 0h160v-160H620v160ZM180-180h160v-160H180v160Zm440 0h160v-160H620v160Z\"/>\n",
              "  </svg>\n",
              "    </button>\n",
              "\n",
              "  <style>\n",
              "    .colab-df-container {\n",
              "      display:flex;\n",
              "      gap: 12px;\n",
              "    }\n",
              "\n",
              "    .colab-df-convert {\n",
              "      background-color: #E8F0FE;\n",
              "      border: none;\n",
              "      border-radius: 50%;\n",
              "      cursor: pointer;\n",
              "      display: none;\n",
              "      fill: #1967D2;\n",
              "      height: 32px;\n",
              "      padding: 0 0 0 0;\n",
              "      width: 32px;\n",
              "    }\n",
              "\n",
              "    .colab-df-convert:hover {\n",
              "      background-color: #E2EBFA;\n",
              "      box-shadow: 0px 1px 2px rgba(60, 64, 67, 0.3), 0px 1px 3px 1px rgba(60, 64, 67, 0.15);\n",
              "      fill: #174EA6;\n",
              "    }\n",
              "\n",
              "    .colab-df-buttons div {\n",
              "      margin-bottom: 4px;\n",
              "    }\n",
              "\n",
              "    [theme=dark] .colab-df-convert {\n",
              "      background-color: #3B4455;\n",
              "      fill: #D2E3FC;\n",
              "    }\n",
              "\n",
              "    [theme=dark] .colab-df-convert:hover {\n",
              "      background-color: #434B5C;\n",
              "      box-shadow: 0px 1px 3px 1px rgba(0, 0, 0, 0.15);\n",
              "      filter: drop-shadow(0px 1px 2px rgba(0, 0, 0, 0.3));\n",
              "      fill: #FFFFFF;\n",
              "    }\n",
              "  </style>\n",
              "\n",
              "    <script>\n",
              "      const buttonEl =\n",
              "        document.querySelector('#df-37f715ec-f4ff-496e-adc1-2a5a13a3c064 button.colab-df-convert');\n",
              "      buttonEl.style.display =\n",
              "        google.colab.kernel.accessAllowed ? 'block' : 'none';\n",
              "\n",
              "      async function convertToInteractive(key) {\n",
              "        const element = document.querySelector('#df-37f715ec-f4ff-496e-adc1-2a5a13a3c064');\n",
              "        const dataTable =\n",
              "          await google.colab.kernel.invokeFunction('convertToInteractive',\n",
              "                                                    [key], {});\n",
              "        if (!dataTable) return;\n",
              "\n",
              "        const docLinkHtml = 'Like what you see? Visit the ' +\n",
              "          '<a target=\"_blank\" href=https://colab.research.google.com/notebooks/data_table.ipynb>data table notebook</a>'\n",
              "          + ' to learn more about interactive tables.';\n",
              "        element.innerHTML = '';\n",
              "        dataTable['output_type'] = 'display_data';\n",
              "        await google.colab.output.renderOutput(dataTable, element);\n",
              "        const docLink = document.createElement('div');\n",
              "        docLink.innerHTML = docLinkHtml;\n",
              "        element.appendChild(docLink);\n",
              "      }\n",
              "    </script>\n",
              "  </div>\n",
              "\n",
              "\n",
              "  <div id=\"id_959658db-910c-493d-897f-33352ff49209\">\n",
              "    <style>\n",
              "      .colab-df-generate {\n",
              "        background-color: #E8F0FE;\n",
              "        border: none;\n",
              "        border-radius: 50%;\n",
              "        cursor: pointer;\n",
              "        display: none;\n",
              "        fill: #1967D2;\n",
              "        height: 32px;\n",
              "        padding: 0 0 0 0;\n",
              "        width: 32px;\n",
              "      }\n",
              "\n",
              "      .colab-df-generate:hover {\n",
              "        background-color: #E2EBFA;\n",
              "        box-shadow: 0px 1px 2px rgba(60, 64, 67, 0.3), 0px 1px 3px 1px rgba(60, 64, 67, 0.15);\n",
              "        fill: #174EA6;\n",
              "      }\n",
              "\n",
              "      [theme=dark] .colab-df-generate {\n",
              "        background-color: #3B4455;\n",
              "        fill: #D2E3FC;\n",
              "      }\n",
              "\n",
              "      [theme=dark] .colab-df-generate:hover {\n",
              "        background-color: #434B5C;\n",
              "        box-shadow: 0px 1px 3px 1px rgba(0, 0, 0, 0.15);\n",
              "        filter: drop-shadow(0px 1px 2px rgba(0, 0, 0, 0.3));\n",
              "        fill: #FFFFFF;\n",
              "      }\n",
              "    </style>\n",
              "    <button class=\"colab-df-generate\" onclick=\"generateWithVariable('xgb_unseen')\"\n",
              "            title=\"Generate code using this dataframe.\"\n",
              "            style=\"display:none;\">\n",
              "\n",
              "  <svg xmlns=\"http://www.w3.org/2000/svg\" height=\"24px\"viewBox=\"0 0 24 24\"\n",
              "       width=\"24px\">\n",
              "    <path d=\"M7,19H8.4L18.45,9,17,7.55,7,17.6ZM5,21V16.75L18.45,3.32a2,2,0,0,1,2.83,0l1.4,1.43a1.91,1.91,0,0,1,.58,1.4,1.91,1.91,0,0,1-.58,1.4L9.25,21ZM18.45,9,17,7.55Zm-12,3A5.31,5.31,0,0,0,4.9,8.1,5.31,5.31,0,0,0,1,6.5,5.31,5.31,0,0,0,4.9,4.9,5.31,5.31,0,0,0,6.5,1,5.31,5.31,0,0,0,8.1,4.9,5.31,5.31,0,0,0,12,6.5,5.46,5.46,0,0,0,6.5,12Z\"/>\n",
              "  </svg>\n",
              "    </button>\n",
              "    <script>\n",
              "      (() => {\n",
              "      const buttonEl =\n",
              "        document.querySelector('#id_959658db-910c-493d-897f-33352ff49209 button.colab-df-generate');\n",
              "      buttonEl.style.display =\n",
              "        google.colab.kernel.accessAllowed ? 'block' : 'none';\n",
              "\n",
              "      buttonEl.onclick = () => {\n",
              "        google.colab.notebook.generateWithVariable('xgb_unseen');\n",
              "      }\n",
              "      })();\n",
              "    </script>\n",
              "  </div>\n",
              "\n",
              "    </div>\n",
              "  </div>\n"
            ],
            "application/vnd.google.colaboratory.intrinsic+json": {
              "type": "dataframe",
              "variable_name": "xgb_unseen",
              "summary": "{\n  \"name\": \"xgb_unseen\",\n  \"rows\": 1,\n  \"fields\": [\n    {\n      \"column\": \"Precision\",\n      \"properties\": {\n        \"dtype\": \"number\",\n        \"std\": null,\n        \"min\": 0.6004489337822672,\n        \"max\": 0.6004489337822672,\n        \"num_unique_values\": 1,\n        \"samples\": [\n          0.6004489337822672\n        ],\n        \"semantic_type\": \"\",\n        \"description\": \"\"\n      }\n    },\n    {\n      \"column\": \"Accuracy\",\n      \"properties\": {\n        \"dtype\": \"number\",\n        \"std\": null,\n        \"min\": 0.9880156072312498,\n        \"max\": 0.9880156072312498,\n        \"num_unique_values\": 1,\n        \"samples\": [\n          0.9880156072312498\n        ],\n        \"semantic_type\": \"\",\n        \"description\": \"\"\n      }\n    },\n    {\n      \"column\": \"Recall\",\n      \"properties\": {\n        \"dtype\": \"number\",\n        \"std\": null,\n        \"min\": 0.9768715763846622,\n        \"max\": 0.9768715763846622,\n        \"num_unique_values\": 1,\n        \"samples\": [\n          0.9768715763846622\n        ],\n        \"semantic_type\": \"\",\n        \"description\": \"\"\n      }\n    },\n    {\n      \"column\": \"F1\",\n      \"properties\": {\n        \"dtype\": \"number\",\n        \"std\": null,\n        \"min\": 0.7437442075996293,\n        \"max\": 0.7437442075996293,\n        \"num_unique_values\": 1,\n        \"samples\": [\n          0.7437442075996293\n        ],\n        \"semantic_type\": \"\",\n        \"description\": \"\"\n      }\n    },\n    {\n      \"column\": \"ROC-AUC\",\n      \"properties\": {\n        \"dtype\": \"number\",\n        \"std\": null,\n        \"min\": 0.9880156072312498,\n        \"max\": 0.9880156072312498,\n        \"num_unique_values\": 1,\n        \"samples\": [\n          0.9880156072312498\n        ],\n        \"semantic_type\": \"\",\n        \"description\": \"\"\n      }\n    }\n  ]\n}"
            }
          },
          "metadata": {},
          "execution_count": 41
        }
      ]
    },
    {
      "cell_type": "code",
      "source": [
        "from sklearn.metrics import confusion_matrix, classification_report"
      ],
      "metadata": {
        "id": "rXhx1QOvJtok"
      },
      "execution_count": 42,
      "outputs": []
    },
    {
      "cell_type": "code",
      "source": [
        "# Calculate the confusion matrix\n",
        "cm = confusion_matrix(y_val, y_pred_xg_final)\n",
        "\n",
        "plt.figure(figsize=(10,7))\n",
        "sns.heatmap(cm, annot=True, fmt='d', cmap='Blues')\n",
        "plt.xlabel('Predicted')\n",
        "plt.ylabel('True')\n",
        "plt.title('Confusion Matrix')\n",
        "plt.show()\n",
        "\n",
        "# Additionally, you can print the classification report for more detailed metrics\n",
        "print(\"Classification Report:\")\n",
        "print(classification_report(y_val, y_pred_xg_final))"
      ],
      "metadata": {
        "colab": {
          "base_uri": "https://localhost:8080/",
          "height": 820
        },
        "id": "xpY1-cL_Jumb",
        "outputId": "08812c17-08ff-4463-c094-78c2a5630af9"
      },
      "execution_count": 43,
      "outputs": [
        {
          "output_type": "display_data",
          "data": {
            "text/plain": [
              "<Figure size 1000x700 with 2 Axes>"
            ],
            "image/png": "[encoded data removed]"
          },
          "metadata": {}
        },
        {
          "output_type": "stream",
          "name": "stdout",
          "text": [
            "Classification Report:\n",
            "              precision    recall  f1-score   support\n",
            "\n",
            "           0       1.00      1.00      1.00   1270881\n",
            "           1       0.60      0.98      0.74      1643\n",
            "\n",
            "    accuracy                           1.00   1272524\n",
            "   macro avg       0.80      0.99      0.87   1272524\n",
            "weighted avg       1.00      1.00      1.00   1272524\n",
            "\n"
          ]
        }
      ]
    },
    {
      "cell_type": "markdown",
      "source": [
        "### VIII. Results\n",
        "\n",
        "a. How much will the company recieve if the model was deployed on unseen data?"
      ],
      "metadata": {
        "id": "n26tOlZxKHe5"
      }
    },
    {
      "cell_type": "code",
      "source": [
        "val_df = x_val.with_columns(pl.Series(name=\"preds\" ,values=y_pred_xg_final),\n",
        "                           pl.Series(name=\"isfraud\",values=y_val.to_numpy().flatten()))"
      ],
      "metadata": {
        "id": "EzAcQWbBKG2A"
      },
      "execution_count": 61,
      "outputs": []
    },
    {
      "cell_type": "code",
      "source": [
        "total_amount = val_df.filter((pl.col(\"preds\") == 1) & (pl.col(\"isfraud\") == 1)).select(pl.sum(\"amount\")).item()\n",
        "total_amount = total_amount*0.15\n",
        "formatted_amount = f\"${total_amount:,.0f}\"\n",
        "\n",
        "print(f\"The company receives a total of {formatted_amount} for detecting fraudulent transactions successfully.\")"
      ],
      "metadata": {
        "colab": {
          "base_uri": "https://localhost:8080/"
        },
        "id": "200yCrGfr3ee",
        "outputId": "4f6e3020-dd66-4307-f17d-2e76f07632c0"
      },
      "execution_count": 59,
      "outputs": [
        {
          "output_type": "stream",
          "name": "stdout",
          "text": [
            "The company receives a total of $338,756,561 for detecting fraudulent transactions successfully.\n"
          ]
        }
      ]
    },
    {
      "cell_type": "markdown",
      "source": [
        "b. The company will have a penalty of 3% of each transaction flagged as fraud but is legitimate. How much would it lose on the unseen data?"
      ],
      "metadata": {
        "id": "lp6HALcqz48w"
      }
    },
    {
      "cell_type": "code",
      "source": [
        "total_amount_lost = val_df.filter((pl.col(\"preds\") == 1) & (pl.col(\"isfraud\") == 0)).select(pl.sum(\"amount\")).item()\n",
        "total_amount_lost = total_amount_lost*0.15\n",
        "formatted_amount_lost = f\"${total_amount_lost:,.0f}\"\n",
        "\n",
        "print(f\"The company has to pay a total of {formatted_amount_lost} for flagging as fraudulent transactions legitimate movements.\")"
      ],
      "metadata": {
        "colab": {
          "base_uri": "https://localhost:8080/"
        },
        "id": "VZrRL4KBz3iC",
        "outputId": "8d174a96-9979-4679-a8ea-61f924da9053"
      },
      "execution_count": 60,
      "outputs": [
        {
          "output_type": "stream",
          "name": "stdout",
          "text": [
            "The company receives a total of $32,251,006 for detecting fraudulent transactions successfully.\n"
          ]
        }
      ]
    },
    {
      "cell_type": "markdown",
      "source": [
        "Is the company's product profitable?\n",
        "\n",
        "Yes. According to the previous results we can see that the company recieves a total of $338 MM and only has to return \\$32 MM due to missclassified transactions."
      ],
      "metadata": {
        "id": "KWjkpA7J0tHc"
      }
    }
  ],
  "metadata": {
    "colab": {
      "provenance": [],
      "authorship_tag": "ABX9TyNfJba9EJ97Ni0h5o6zLRY1",
      "include_colab_link": true
    },
    "kernelspec": {
      "display_name": "Python 3",
      "name": "python3"
    },
    "language_info": {
      "name": "python"
    }
  },
  "nbformat": 4,
  "nbformat_minor": 0
}